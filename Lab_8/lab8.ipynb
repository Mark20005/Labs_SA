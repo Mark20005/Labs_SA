{
 "cells": [
  {
   "cell_type": "code",
   "execution_count": 1,
   "metadata": {},
   "outputs": [
    {
     "name": "stdout",
     "output_type": "stream",
     "text": [
      "Allocation Matrix:\n",
      "[[200.   0.   0.   0.   0.]\n",
      " [ 70. 130. 150.   0.   0.]\n",
      " [  0.   0.  40. 150. 110.]]\n"
     ]
    }
   ],
   "source": [
    "import numpy as np\n",
    "\n",
    "costs = [[24,50,5,27,16],\n",
    "         [50,47,23,17,21],\n",
    "         [35,59,55,27,41]]\n",
    "supply = [200,350,300]\n",
    "demand = [270,130,190,150,110]\n",
    "\n",
    "#Ініціалізація матриці розподілення\n",
    "allocation = np.zeros((len(supply), len(demand)))\n",
    "\n",
    "#Ініціалізація індексів для запасів та потреб\n",
    "i, j = 0, 0\n",
    "\n",
    "#Ітерувати поки умова не буде задовільнена\n",
    "while i < len(supply) and j < len(demand):\n",
    "    #Вирахувати можливий розподіл\n",
    "    quantity = min(supply[i], demand[j])\n",
    "    \n",
    "    #Оновлення матриці\n",
    "    allocation[i, j] = quantity\n",
    "    \n",
    "    #Оновлення запасів та потреб\n",
    "    supply[i] -= quantity\n",
    "    demand[j] -= quantity\n",
    "    \n",
    "    #Перехід далі при задоволенні умов\n",
    "    if supply[i] == 0:\n",
    "        i += 1\n",
    "    if demand[j] == 0:\n",
    "        j += 1\n",
    "\n",
    "#Виведення результатів\n",
    "print(\"Allocation Matrix:\")\n",
    "print(allocation)"
   ]
  },
  {
   "cell_type": "code",
   "execution_count": 5,
   "metadata": {},
   "outputs": [
    {
     "name": "stdout",
     "output_type": "stream",
     "text": [
      "Оптимальний план перевезення:\n",
      "Завод 1 -> Склад 5\n",
      "Завод 2 -> Склад 4\n",
      "Завод 3 -> Склад 3\n",
      "Завод 4 -> Склад 2\n",
      "Завод 5 -> Склад 7\n"
     ]
    }
   ],
   "source": [
    "from scipy.optimize import linear_sum_assignment\n",
    "import numpy as np\n",
    "\n",
    "#Дані задачі\n",
    "supply = [310, 260, 280, 360, 220]  \n",
    "demand = [170, 200, 180, 210, 240, 180, 250]  \n",
    "\n",
    "cost_matrix = [\n",
    "    [10, 15, 20, 5, 8, 22, 18],   \n",
    "    [12, 14, 10, 7, 13, 15, 11],  \n",
    "    [16, 11, 8, 9, 17, 20, 14],   \n",
    "    [19, 8, 14, 16, 10, 18, 12],   \n",
    "    [22, 10, 13, 12, 11, 17, 9]    \n",
    "]\n",
    "\n",
    "#Розв'язання транспортної задачі методом потенціалів\n",
    "cost_matrix_np = np.array(cost_matrix)\n",
    "row_ind, col_ind = linear_sum_assignment(cost_matrix_np)\n",
    "\n",
    "#Вивід результатів\n",
    "print(\"Оптимальний план перевезення:\")\n",
    "for i, j in zip(row_ind, col_ind):\n",
    "    print(f\"Завод {i + 1} -> Склад {j + 1}\")\n"
   ]
  }
 ],
 "metadata": {
  "kernelspec": {
   "display_name": "idaost",
   "language": "python",
   "name": "python3"
  },
  "language_info": {
   "codemirror_mode": {
    "name": "ipython",
    "version": 3
   },
   "file_extension": ".py",
   "mimetype": "text/x-python",
   "name": "python",
   "nbconvert_exporter": "python",
   "pygments_lexer": "ipython3",
   "version": "3.10.13"
  }
 },
 "nbformat": 4,
 "nbformat_minor": 2
}
