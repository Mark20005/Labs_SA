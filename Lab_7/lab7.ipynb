{
 "cells": [
  {
   "metadata": {},
   "cell_type": "code",
   "outputs": [],
   "execution_count": null,
   "source": [
    "import numpy as np\n",
    "from sklearn.preprocessing import LabelBinarizer\n",
    "\n",
    "\n",
    "def relative_majority(e, votes):\n",
    "    return (e[0] * votes).sum(axis=1)\n",
    "\n",
    "\n",
    "def encoded(matrix, label_binarizer):\n",
    "    encoded = label_binarizer.fit_transform(matrix.flatten())\n",
    "    encoded = encoded.reshape(matrix.shape + (4,))\n",
    "    encoded = encoded.transpose((0, 2, 1))\n",
    "\n",
    "    return encoded\n",
    "\n",
    "\n",
    "def relative(labels, e, votes):\n",
    "    relative_majority_score = relative_majority(e, votes)\n",
    "    relative_majority_result = labels[relative_majority_score.argmax()]\n",
    "    return relative_majority_result"
   ]
  },
  {
   "cell_type": "code",
   "execution_count": 3,
   "metadata": {},
   "outputs": [],
   "source": [
    "def absolute(labels, matrix, votes, encoded, label_binarizer):\n",
    "    relative_majority_score = (encoded[0] * votes).sum(axis=1)\n",
    "\n",
    "    sorted_result = np.sort(relative_majority_score)[-2:]\n",
    "    indices = np.where(np.isin(relative_majority_score, sorted_result))[0]\n",
    "    second_indicies = np.argmax(np.isin(matrix, labels[indices]), axis=0)\n",
    "    top2_vector = label_binarizer.transform(\n",
    "        matrix[second_indicies, np.arange(matrix.shape[1])]).T * votes\n",
    "    absolute_score = top2_vector.sum(axis=1)\n",
    "    absolute_result = labels[absolute_score.argmax()]\n",
    "\n",
    "    return absolute_result"
   ]
  },
  {
   "cell_type": "code",
   "execution_count": 4,
   "metadata": {},
   "outputs": [],
   "source": [
    "def borda(encoded, votes, labels):\n",
    "    mul_array = encoded * votes\n",
    "    arr_score = mul_array * np.array([3, 2, 1, 0])[:, np.newaxis, np.newaxis]\n",
    "    bord_score = arr_score.sum(axis=2).sum(axis=0)\n",
    "    bord_result = labels[bord_score.argmax()]\n",
    "\n",
    "    return bord_result\n"
   ]
  },
  {
   "cell_type": "code",
   "execution_count": 5,
   "metadata": {},
   "outputs": [],
   "source": [
    "def condorse(matrix, votes, labels):\n",
    "    unique_chars = np.unique(matrix)\n",
    "    sorted_chars = np.sort(unique_chars)\n",
    "\n",
    "    char_to_num = {char: i for i, char in enumerate(sorted_chars)}\n",
    "    num_matrix = np.vectorize(char_to_num.get)(matrix)\n",
    "    matrix_cond = np.zeros((4, 4))\n",
    "\n",
    "    for i, col in enumerate(num_matrix.T):\n",
    "        for x in range(col.shape[0]):\n",
    "            for y in range(x+1, col.shape[0]):\n",
    "                matrix_cond[col[x]][col[y]] += votes[i]\n",
    "\n",
    "    for i, e1 in enumerate(labels):\n",
    "        winner = True\n",
    "        for j in range(labels.shape[0]):\n",
    "            if i != j:\n",
    "                if matrix_cond[i][j] < matrix_cond[j][i]:\n",
    "                    winner = False\n",
    "        if winner:\n",
    "            matrix_result = e1\n",
    "            return matrix_result"
   ]
  },
  {
   "cell_type": "code",
   "execution_count": 6,
   "metadata": {},
   "outputs": [],
   "source": [
    "def coplend(matrix, votes, labels):\n",
    "    unique_chars = np.unique(matrix)\n",
    "    sorted_chars = np.sort(unique_chars)\n",
    "\n",
    "    char_to_num = {char: i for i, char in enumerate(sorted_chars)}\n",
    "    num_matrix = np.vectorize(char_to_num.get)(matrix)\n",
    "    matrix_cond = np.zeros((4, 4))\n",
    "\n",
    "    for i, col in enumerate(num_matrix.T):\n",
    "        for x in range(col.shape[0]):\n",
    "            for y in range(x+1, col.shape[0]):\n",
    "                matrix_cond[col[x]][col[y]] += votes[i]\n",
    "\n",
    "    cop_score = np.zeros(matrix.shape[0])\n",
    "    for i, e1 in enumerate(labels):\n",
    "        for j in range(labels.shape[0]):\n",
    "            if i != j:\n",
    "                if matrix_cond[i][j] < matrix_cond[j][i]:\n",
    "                    cop_score[i] -= 1\n",
    "                elif matrix_cond[i][j] > matrix_cond[j][i]:\n",
    "                    cop_score[i] += 1\n",
    "\n",
    "    cop_result = labels[cop_score.argmax()]\n",
    "    return cop_result\n"
   ]
  },
  {
   "cell_type": "code",
   "execution_count": 7,
   "metadata": {},
   "outputs": [],
   "source": [
    "def simpson(matrix, votes, labels):\n",
    "    unique_chars = np.unique(matrix)\n",
    "    sorted_chars = np.sort(unique_chars)\n",
    "\n",
    "    char_to_num = {char: i for i, char in enumerate(sorted_chars)}\n",
    "    num_matrix = np.vectorize(char_to_num.get)(matrix)\n",
    "    matrix_cond = np.zeros((4, 4))\n",
    "\n",
    "    for i, col in enumerate(num_matrix.T):\n",
    "        for x in range(col.shape[0]):\n",
    "            for y in range(x+1, col.shape[0]):\n",
    "                matrix_cond[col[x]][col[y]] += votes[i]\n",
    "\n",
    "    data_no_zeros = np.where(matrix_cond == 0, np.nan, matrix_cond)\n",
    "\n",
    "    simpson_score = np.nanmin(data_no_zeros, axis=1)\n",
    "\n",
    "    simpson_result = labels[simpson_score.argmax()]\n",
    "\n",
    "    return simpson_result"
   ]
  },
  {
   "cell_type": "code",
   "execution_count": 8,
   "metadata": {},
   "outputs": [
    {
     "name": "stdout",
     "output_type": "stream",
     "text": [
      "Absolute majority:C\n",
      "Relative majority:C\n",
      "Borda:C\n",
      "Condorse:C\n",
      "Koplend:C\n",
      "SimpsonC\n"
     ]
    }
   ],
   "source": [
    "def main():\n",
    "    label_binarizer = LabelBinarizer()\n",
    "\n",
    "    matrix = np.array([['A', 'C', 'B', 'B'],\n",
    "                       ['C', 'A', 'C', 'A'],\n",
    "                       ['D', 'B', 'A', 'C'],\n",
    "                       ['B', 'D', 'D', 'D'],])\n",
    "    votes = np.array([5, 8, 3, 4])\n",
    "\n",
    "    e = encoded(matrix, label_binarizer)\n",
    "\n",
    "    labels = np.array(['A', 'B', 'C', 'D'])\n",
    "\n",
    "    a = absolute(labels, matrix, votes, e, label_binarizer)\n",
    "    print('Absolute majority:'+a)\n",
    "    r = relative(labels, e, votes)\n",
    "    print('Relative majority:'+r)\n",
    "    \n",
    "    borda_res = borda(e, votes, labels)\n",
    "    print('Borda:'+borda_res)\n",
    "    condorse_res = condorse(matrix, votes, labels)\n",
    "    print('Condorse:'+condorse_res)\n",
    "    kop_res = coplend(matrix, votes, labels)\n",
    "    print('Koplend:'+kop_res)\n",
    "    simpson_res = simpson(matrix, votes, labels)\n",
    "    print('Simpson'+simpson_res)\n",
    "\n",
    "\n",
    "if __name__ == '__main__':\n",
    "    main()\n"
   ]
  }
 ],
 "metadata": {
  "kernelspec": {
   "display_name": "idaost",
   "language": "python",
   "name": "python3"
  },
  "language_info": {
   "codemirror_mode": {
    "name": "ipython",
    "version": 3
   },
   "file_extension": ".py",
   "mimetype": "text/x-python",
   "name": "python",
   "nbconvert_exporter": "python",
   "pygments_lexer": "ipython3",
   "version": "3.10.13"
  }
 },
 "nbformat": 4,
 "nbformat_minor": 2
}
